{
 "metadata": {
  "name": "",
  "signature": "sha256:d985f3c671d80a9d79499b2944882a1f18f55e46a8e7b994008bccf49e5dd11f"
 },
 "nbformat": 3,
 "nbformat_minor": 0,
 "worksheets": [
  {
   "cells": [
    {
     "cell_type": "code",
     "collapsed": false,
     "input": [
      "from __future__ import division\n",
      "from scipy.sparse import coo_matrix, hstack, csr_matrix\n",
      "from sklearn.preprocessing import add_dummy_feature\n",
      "from sklearn.feature_extraction.text import TfidfVectorizer, CountVectorizer\n",
      "from sklearn.linear_model import LogisticRegression, LinearRegression, SGDClassifier\n",
      "from sklearn.cross_validation import train_test_split, KFold\n",
      "from sklearn.ensemble import RandomForestClassifier\n",
      "from sklearn.multiclass import OneVsRestClassifier\n",
      "from sklearn.neural_network import BernoulliRBM\n",
      "from sklearn.svm import SVC, SVR\n",
      "from sklearn.grid_search import GridSearchCV\n",
      "from sklearn.naive_bayes import MultinomialNB\n",
      "\n",
      "import sklearn.naive_bayes\n",
      "import string\n",
      "import csv\n",
      "import numpy as np\n",
      "import pandas as pd\n",
      "import matplotlib.pylab as plt\n",
      "import pickle\n",
      "from exploration import *\n",
      "\n",
      "def mysave(obj, filename):\n",
      "\twith open(filename, 'wb') as output:\n",
      "\t\tpickle.dump(obj, output, pickle.HIGHEST_PROTOCOL)\n",
      "\n"
     ],
     "language": "python",
     "metadata": {},
     "outputs": [],
     "prompt_number": 1
    },
    {
     "cell_type": "code",
     "collapsed": false,
     "input": [
      "df = pd.read_csv('data/train.tsv', sep=\"\\t\")\n",
      "testdf = pd.read_csv('data/test.tsv', sep='\\t')\n",
      "testdf.head()\n",
      "n = df.shape[0]"
     ],
     "language": "python",
     "metadata": {},
     "outputs": [],
     "prompt_number": 2
    },
    {
     "cell_type": "code",
     "collapsed": false,
     "input": [
      "df.head(10)"
     ],
     "language": "python",
     "metadata": {},
     "outputs": [
      {
       "html": [
        "<div style=\"max-height:1000px;max-width:1500px;overflow:auto;\">\n",
        "<table border=\"1\" class=\"dataframe\">\n",
        "  <thead>\n",
        "    <tr style=\"text-align: right;\">\n",
        "      <th></th>\n",
        "      <th>PhraseId</th>\n",
        "      <th>SentenceId</th>\n",
        "      <th>Phrase</th>\n",
        "      <th>Sentiment</th>\n",
        "    </tr>\n",
        "  </thead>\n",
        "  <tbody>\n",
        "    <tr>\n",
        "      <th>0</th>\n",
        "      <td>  1</td>\n",
        "      <td> 1</td>\n",
        "      <td> A series of escapades demonstrating the adage ...</td>\n",
        "      <td> 1</td>\n",
        "    </tr>\n",
        "    <tr>\n",
        "      <th>1</th>\n",
        "      <td>  2</td>\n",
        "      <td> 1</td>\n",
        "      <td> A series of escapades demonstrating the adage ...</td>\n",
        "      <td> 2</td>\n",
        "    </tr>\n",
        "    <tr>\n",
        "      <th>2</th>\n",
        "      <td>  3</td>\n",
        "      <td> 1</td>\n",
        "      <td>                                          A series</td>\n",
        "      <td> 2</td>\n",
        "    </tr>\n",
        "    <tr>\n",
        "      <th>3</th>\n",
        "      <td>  4</td>\n",
        "      <td> 1</td>\n",
        "      <td>                                                 A</td>\n",
        "      <td> 2</td>\n",
        "    </tr>\n",
        "    <tr>\n",
        "      <th>4</th>\n",
        "      <td>  5</td>\n",
        "      <td> 1</td>\n",
        "      <td>                                            series</td>\n",
        "      <td> 2</td>\n",
        "    </tr>\n",
        "    <tr>\n",
        "      <th>5</th>\n",
        "      <td>  6</td>\n",
        "      <td> 1</td>\n",
        "      <td> of escapades demonstrating the adage that what...</td>\n",
        "      <td> 2</td>\n",
        "    </tr>\n",
        "    <tr>\n",
        "      <th>6</th>\n",
        "      <td>  7</td>\n",
        "      <td> 1</td>\n",
        "      <td>                                                of</td>\n",
        "      <td> 2</td>\n",
        "    </tr>\n",
        "    <tr>\n",
        "      <th>7</th>\n",
        "      <td>  8</td>\n",
        "      <td> 1</td>\n",
        "      <td> escapades demonstrating the adage that what is...</td>\n",
        "      <td> 2</td>\n",
        "    </tr>\n",
        "    <tr>\n",
        "      <th>8</th>\n",
        "      <td>  9</td>\n",
        "      <td> 1</td>\n",
        "      <td>                                         escapades</td>\n",
        "      <td> 2</td>\n",
        "    </tr>\n",
        "    <tr>\n",
        "      <th>9</th>\n",
        "      <td> 10</td>\n",
        "      <td> 1</td>\n",
        "      <td> demonstrating the adage that what is good for ...</td>\n",
        "      <td> 2</td>\n",
        "    </tr>\n",
        "  </tbody>\n",
        "</table>\n",
        "</div>"
       ],
       "metadata": {},
       "output_type": "pyout",
       "prompt_number": 3,
       "text": [
        "   PhraseId  SentenceId                                             Phrase  \\\n",
        "0         1           1  A series of escapades demonstrating the adage ...   \n",
        "1         2           1  A series of escapades demonstrating the adage ...   \n",
        "2         3           1                                           A series   \n",
        "3         4           1                                                  A   \n",
        "4         5           1                                             series   \n",
        "5         6           1  of escapades demonstrating the adage that what...   \n",
        "6         7           1                                                 of   \n",
        "7         8           1  escapades demonstrating the adage that what is...   \n",
        "8         9           1                                          escapades   \n",
        "9        10           1  demonstrating the adage that what is good for ...   \n",
        "\n",
        "   Sentiment  \n",
        "0          1  \n",
        "1          2  \n",
        "2          2  \n",
        "3          2  \n",
        "4          2  \n",
        "5          2  \n",
        "6          2  \n",
        "7          2  \n",
        "8          2  \n",
        "9          2  "
       ]
      }
     ],
     "prompt_number": 3
    },
    {
     "cell_type": "code",
     "collapsed": false,
     "input": [
      "# This takes about 18 min. to parse the tree\n",
      "%time tree_df, split_df = generate_tree_data(df)\n",
      "tree_df.head()"
     ],
     "language": "python",
     "metadata": {},
     "outputs": [
      {
       "output_type": "stream",
       "stream": "stdout",
       "text": [
        "2006 Contrived pastiche of caper | common through-line\n",
        "3263"
       ]
      },
      {
       "output_type": "stream",
       "stream": "stdout",
       "text": [
        " Turpin | a summer of good stuff\n",
        "6788"
       ]
      },
      {
       "output_type": "stream",
       "stream": "stdout",
       "text": [
        " sinks | After the first 10 minutes , which is worth seeing\n",
        "6789 an abyss | After the first 10 minutes , which is worth seeing\n",
        "6791 bad alternative music | an abyss\n",
        "7855"
       ]
      },
      {
       "output_type": "stream",
       "stream": "stdout",
       "text": [
        " created a substantive movie out of several cliched movie structures : the road movie , the coming-of-age movie , and the teenage sex comedy . | toilet seat\n",
        "10264"
       ]
      },
      {
       "output_type": "stream",
       "stream": "stdout",
       "text": [
        " , his distance from the material is mostly admirable . | to give Pinochet 's crimes a political context\n",
        "12903"
       ]
      },
      {
       "output_type": "stream",
       "stream": "stdout",
       "text": [
        " lifted | were n't as beautifully shaped and as delicately calibrated in tone as it is\n",
        "12904 Terry Gilliam 's subconscious , | were n't as beautifully shaped and as delicately calibrated in tone as it is\n",
        "12911 pressed | Terry Gilliam 's subconscious ,\n",
        "12912 through Kafka 's meat grinder and | Terry Gilliam 's subconscious ,\n",
        "12919"
       ]
      },
      {
       "output_type": "stream",
       "stream": "stdout",
       "text": [
        " casings | through Kafka 's meat grinder and\n"
       ]
      },
      {
       "ename": "KeyboardInterrupt",
       "evalue": "",
       "output_type": "pyerr",
       "traceback": [
        "\u001b[0;31m---------------------------------------------------------------------------\u001b[0m\n\u001b[0;31mKeyboardInterrupt\u001b[0m                         Traceback (most recent call last)",
        "\u001b[0;32m<ipython-input-4-1e09c4f0bbbe>\u001b[0m in \u001b[0;36m<module>\u001b[0;34m()\u001b[0m\n\u001b[0;32m----> 1\u001b[0;31m \u001b[0mtree_df\u001b[0m\u001b[0;34m,\u001b[0m \u001b[0msplit_df\u001b[0m \u001b[0;34m=\u001b[0m \u001b[0mgenerate_tree_data\u001b[0m\u001b[0;34m(\u001b[0m\u001b[0mdf\u001b[0m\u001b[0;34m)\u001b[0m\u001b[0;34m\u001b[0m\u001b[0m\n\u001b[0m\u001b[1;32m      2\u001b[0m \u001b[0mtree_df\u001b[0m\u001b[0;34m.\u001b[0m\u001b[0mhead\u001b[0m\u001b[0;34m(\u001b[0m\u001b[0;34m)\u001b[0m\u001b[0;34m\u001b[0m\u001b[0m\n",
        "\u001b[0;32m/Users/yukatherin/Documents/kaggle_rt/exploration.py\u001b[0m in \u001b[0;36mgenerate_tree_data\u001b[0;34m(df)\u001b[0m\n\u001b[1;32m     59\u001b[0m             \u001b[0;32mif\u001b[0m \u001b[0mnext_row\u001b[0m\u001b[0;34m.\u001b[0m\u001b[0mPhrase\u001b[0m \u001b[0;32min\u001b[0m \u001b[0mparent_phrase\u001b[0m\u001b[0;34m:\u001b[0m\u001b[0;34m\u001b[0m\u001b[0m\n\u001b[1;32m     60\u001b[0m                 \u001b[0mcurr_depth\u001b[0m \u001b[0;34m=\u001b[0m \u001b[0mparent_depth\u001b[0m \u001b[0;34m+\u001b[0m \u001b[0;36m1\u001b[0m\u001b[0;34m\u001b[0m\u001b[0m\n\u001b[0;32m---> 61\u001b[0;31m                 \u001b[0mtree_df\u001b[0m\u001b[0;34m.\u001b[0m\u001b[0mix\u001b[0m\u001b[0;34m[\u001b[0m\u001b[0mi\u001b[0m\u001b[0;34m,\u001b[0m \u001b[0;34m'Tree_Depth'\u001b[0m\u001b[0;34m]\u001b[0m \u001b[0;34m=\u001b[0m \u001b[0mcurr_depth\u001b[0m\u001b[0;34m\u001b[0m\u001b[0m\n\u001b[0m\u001b[1;32m     62\u001b[0m                 \u001b[0mtree_df\u001b[0m\u001b[0;34m.\u001b[0m\u001b[0mix\u001b[0m\u001b[0;34m[\u001b[0m\u001b[0mi\u001b[0m\u001b[0;34m,\u001b[0m \u001b[0;34m'Parent_PhraseId'\u001b[0m\u001b[0;34m]\u001b[0m \u001b[0;34m=\u001b[0m \u001b[0mparent_phraseid\u001b[0m\u001b[0;34m\u001b[0m\u001b[0m\n\u001b[1;32m     63\u001b[0m                 \u001b[0;32mbreak\u001b[0m\u001b[0;34m\u001b[0m\u001b[0m\n",
        "\u001b[0;32m/Users/yukatherin/Applications/anaconda/lib/python2.7/site-packages/pandas/core/indexing.pyc\u001b[0m in \u001b[0;36m__setitem__\u001b[0;34m(self, key, value)\u001b[0m\n\u001b[1;32m    119\u001b[0m                 \u001b[0mindexer\u001b[0m \u001b[0;34m=\u001b[0m \u001b[0mself\u001b[0m\u001b[0;34m.\u001b[0m\u001b[0m_convert_to_indexer\u001b[0m\u001b[0;34m(\u001b[0m\u001b[0mkey\u001b[0m\u001b[0;34m,\u001b[0m \u001b[0mis_setter\u001b[0m\u001b[0;34m=\u001b[0m\u001b[0mTrue\u001b[0m\u001b[0;34m)\u001b[0m\u001b[0;34m\u001b[0m\u001b[0m\n\u001b[1;32m    120\u001b[0m \u001b[0;34m\u001b[0m\u001b[0m\n\u001b[0;32m--> 121\u001b[0;31m         \u001b[0mself\u001b[0m\u001b[0;34m.\u001b[0m\u001b[0m_setitem_with_indexer\u001b[0m\u001b[0;34m(\u001b[0m\u001b[0mindexer\u001b[0m\u001b[0;34m,\u001b[0m \u001b[0mvalue\u001b[0m\u001b[0;34m)\u001b[0m\u001b[0;34m\u001b[0m\u001b[0m\n\u001b[0m\u001b[1;32m    122\u001b[0m \u001b[0;34m\u001b[0m\u001b[0m\n\u001b[1;32m    123\u001b[0m     \u001b[0;32mdef\u001b[0m \u001b[0m_has_valid_type\u001b[0m\u001b[0;34m(\u001b[0m\u001b[0mself\u001b[0m\u001b[0;34m,\u001b[0m \u001b[0mk\u001b[0m\u001b[0;34m,\u001b[0m \u001b[0maxis\u001b[0m\u001b[0;34m)\u001b[0m\u001b[0;34m:\u001b[0m\u001b[0;34m\u001b[0m\u001b[0m\n",
        "\u001b[0;32m/Users/yukatherin/Applications/anaconda/lib/python2.7/site-packages/pandas/core/indexing.pyc\u001b[0m in \u001b[0;36m_setitem_with_indexer\u001b[0;34m(self, indexer, value)\u001b[0m\n\u001b[1;32m    477\u001b[0m                 \u001b[0;31m# scalar\u001b[0m\u001b[0;34m\u001b[0m\u001b[0;34m\u001b[0m\u001b[0m\n\u001b[1;32m    478\u001b[0m                 \u001b[0;32mfor\u001b[0m \u001b[0mitem\u001b[0m \u001b[0;32min\u001b[0m \u001b[0mlabels\u001b[0m\u001b[0;34m:\u001b[0m\u001b[0;34m\u001b[0m\u001b[0m\n\u001b[0;32m--> 479\u001b[0;31m                     \u001b[0msetter\u001b[0m\u001b[0;34m(\u001b[0m\u001b[0mitem\u001b[0m\u001b[0;34m,\u001b[0m \u001b[0mvalue\u001b[0m\u001b[0;34m)\u001b[0m\u001b[0;34m\u001b[0m\u001b[0m\n\u001b[0m\u001b[1;32m    480\u001b[0m \u001b[0;34m\u001b[0m\u001b[0m\n\u001b[1;32m    481\u001b[0m         \u001b[0;32melse\u001b[0m\u001b[0;34m:\u001b[0m\u001b[0;34m\u001b[0m\u001b[0m\n",
        "\u001b[0;32m/Users/yukatherin/Applications/anaconda/lib/python2.7/site-packages/pandas/core/indexing.pyc\u001b[0m in \u001b[0;36msetter\u001b[0;34m(item, v)\u001b[0m\n\u001b[1;32m    408\u001b[0m                 \u001b[0;32melse\u001b[0m\u001b[0;34m:\u001b[0m\u001b[0;34m\u001b[0m\u001b[0m\n\u001b[1;32m    409\u001b[0m                     \u001b[0;31m# set the item, possibly having a dtype change\u001b[0m\u001b[0;34m\u001b[0m\u001b[0;34m\u001b[0m\u001b[0m\n\u001b[0;32m--> 410\u001b[0;31m                     \u001b[0ms\u001b[0m \u001b[0;34m=\u001b[0m \u001b[0ms\u001b[0m\u001b[0;34m.\u001b[0m\u001b[0mcopy\u001b[0m\u001b[0;34m(\u001b[0m\u001b[0;34m)\u001b[0m\u001b[0;34m\u001b[0m\u001b[0m\n\u001b[0m\u001b[1;32m    411\u001b[0m                     \u001b[0ms\u001b[0m\u001b[0;34m.\u001b[0m\u001b[0m_data\u001b[0m \u001b[0;34m=\u001b[0m \u001b[0ms\u001b[0m\u001b[0;34m.\u001b[0m\u001b[0m_data\u001b[0m\u001b[0;34m.\u001b[0m\u001b[0msetitem\u001b[0m\u001b[0;34m(\u001b[0m\u001b[0mindexer\u001b[0m\u001b[0;34m=\u001b[0m\u001b[0mpi\u001b[0m\u001b[0;34m,\u001b[0m \u001b[0mvalue\u001b[0m\u001b[0;34m=\u001b[0m\u001b[0mv\u001b[0m\u001b[0;34m)\u001b[0m\u001b[0;34m\u001b[0m\u001b[0m\n\u001b[1;32m    412\u001b[0m                     \u001b[0ms\u001b[0m\u001b[0;34m.\u001b[0m\u001b[0m_maybe_update_cacher\u001b[0m\u001b[0;34m(\u001b[0m\u001b[0mclear\u001b[0m\u001b[0;34m=\u001b[0m\u001b[0mTrue\u001b[0m\u001b[0;34m)\u001b[0m\u001b[0;34m\u001b[0m\u001b[0m\n",
        "\u001b[0;32m/Users/yukatherin/Applications/anaconda/lib/python2.7/site-packages/pandas/core/generic.pyc\u001b[0m in \u001b[0;36mcopy\u001b[0;34m(self, deep)\u001b[0m\n\u001b[1;32m   2228\u001b[0m         \u001b[0mcopy\u001b[0m \u001b[0;34m:\u001b[0m \u001b[0mtype\u001b[0m \u001b[0mof\u001b[0m \u001b[0mcaller\u001b[0m\u001b[0;34m\u001b[0m\u001b[0m\n\u001b[1;32m   2229\u001b[0m         \"\"\"\n\u001b[0;32m-> 2230\u001b[0;31m         \u001b[0mdata\u001b[0m \u001b[0;34m=\u001b[0m \u001b[0mself\u001b[0m\u001b[0;34m.\u001b[0m\u001b[0m_data\u001b[0m\u001b[0;34m.\u001b[0m\u001b[0mcopy\u001b[0m\u001b[0;34m(\u001b[0m\u001b[0mdeep\u001b[0m\u001b[0;34m=\u001b[0m\u001b[0mdeep\u001b[0m\u001b[0;34m)\u001b[0m\u001b[0;34m\u001b[0m\u001b[0m\n\u001b[0m\u001b[1;32m   2231\u001b[0m         \u001b[0;32mreturn\u001b[0m \u001b[0mself\u001b[0m\u001b[0;34m.\u001b[0m\u001b[0m_constructor\u001b[0m\u001b[0;34m(\u001b[0m\u001b[0mdata\u001b[0m\u001b[0;34m)\u001b[0m\u001b[0;34m.\u001b[0m\u001b[0m__finalize__\u001b[0m\u001b[0;34m(\u001b[0m\u001b[0mself\u001b[0m\u001b[0;34m)\u001b[0m\u001b[0;34m\u001b[0m\u001b[0m\n\u001b[1;32m   2232\u001b[0m \u001b[0;34m\u001b[0m\u001b[0m\n",
        "\u001b[0;32m/Users/yukatherin/Applications/anaconda/lib/python2.7/site-packages/pandas/core/internals.pyc\u001b[0m in \u001b[0;36mcopy\u001b[0;34m(self, deep)\u001b[0m\n\u001b[1;32m   2695\u001b[0m             \u001b[0mnew_axes\u001b[0m \u001b[0;34m=\u001b[0m \u001b[0mlist\u001b[0m\u001b[0;34m(\u001b[0m\u001b[0mself\u001b[0m\u001b[0;34m.\u001b[0m\u001b[0maxes\u001b[0m\u001b[0;34m)\u001b[0m\u001b[0;34m\u001b[0m\u001b[0m\n\u001b[1;32m   2696\u001b[0m         return self.apply('copy', axes=new_axes, deep=deep,\n\u001b[0;32m-> 2697\u001b[0;31m                           do_integrity_check=False)\n\u001b[0m\u001b[1;32m   2698\u001b[0m \u001b[0;34m\u001b[0m\u001b[0m\n\u001b[1;32m   2699\u001b[0m     \u001b[0;32mdef\u001b[0m \u001b[0mas_matrix\u001b[0m\u001b[0;34m(\u001b[0m\u001b[0mself\u001b[0m\u001b[0;34m,\u001b[0m \u001b[0mitems\u001b[0m\u001b[0;34m=\u001b[0m\u001b[0mNone\u001b[0m\u001b[0;34m)\u001b[0m\u001b[0;34m:\u001b[0m\u001b[0;34m\u001b[0m\u001b[0m\n",
        "\u001b[0;32m/Users/yukatherin/Applications/anaconda/lib/python2.7/site-packages/pandas/core/internals.pyc\u001b[0m in \u001b[0;36mapply\u001b[0;34m(self, f, axes, filter, do_integrity_check, **kwargs)\u001b[0m\n\u001b[1;32m   2455\u001b[0m                                                  copy=align_copy)\n\u001b[1;32m   2456\u001b[0m \u001b[0;34m\u001b[0m\u001b[0m\n\u001b[0;32m-> 2457\u001b[0;31m             \u001b[0mapplied\u001b[0m \u001b[0;34m=\u001b[0m \u001b[0mgetattr\u001b[0m\u001b[0;34m(\u001b[0m\u001b[0mb\u001b[0m\u001b[0;34m,\u001b[0m \u001b[0mf\u001b[0m\u001b[0;34m)\u001b[0m\u001b[0;34m(\u001b[0m\u001b[0;34m**\u001b[0m\u001b[0mkwargs\u001b[0m\u001b[0;34m)\u001b[0m\u001b[0;34m\u001b[0m\u001b[0m\n\u001b[0m\u001b[1;32m   2458\u001b[0m \u001b[0;34m\u001b[0m\u001b[0m\n\u001b[1;32m   2459\u001b[0m             \u001b[0;32mif\u001b[0m \u001b[0misinstance\u001b[0m\u001b[0;34m(\u001b[0m\u001b[0mapplied\u001b[0m\u001b[0;34m,\u001b[0m \u001b[0mlist\u001b[0m\u001b[0;34m)\u001b[0m\u001b[0;34m:\u001b[0m\u001b[0;34m\u001b[0m\u001b[0m\n",
        "\u001b[0;32m/Users/yukatherin/Applications/anaconda/lib/python2.7/site-packages/pandas/core/internals.pyc\u001b[0m in \u001b[0;36mcopy\u001b[0;34m(self, deep)\u001b[0m\n\u001b[1;32m    498\u001b[0m         \u001b[0mvalues\u001b[0m \u001b[0;34m=\u001b[0m \u001b[0mself\u001b[0m\u001b[0;34m.\u001b[0m\u001b[0mvalues\u001b[0m\u001b[0;34m\u001b[0m\u001b[0m\n\u001b[1;32m    499\u001b[0m         \u001b[0;32mif\u001b[0m \u001b[0mdeep\u001b[0m\u001b[0;34m:\u001b[0m\u001b[0;34m\u001b[0m\u001b[0m\n\u001b[0;32m--> 500\u001b[0;31m             \u001b[0mvalues\u001b[0m \u001b[0;34m=\u001b[0m \u001b[0mvalues\u001b[0m\u001b[0;34m.\u001b[0m\u001b[0mcopy\u001b[0m\u001b[0;34m(\u001b[0m\u001b[0;34m)\u001b[0m\u001b[0;34m\u001b[0m\u001b[0m\n\u001b[0m\u001b[1;32m    501\u001b[0m         return make_block(values, ndim=self.ndim,\n\u001b[1;32m    502\u001b[0m                           \u001b[0mklass\u001b[0m\u001b[0;34m=\u001b[0m\u001b[0mself\u001b[0m\u001b[0;34m.\u001b[0m\u001b[0m__class__\u001b[0m\u001b[0;34m,\u001b[0m \u001b[0mfastpath\u001b[0m\u001b[0;34m=\u001b[0m\u001b[0mTrue\u001b[0m\u001b[0;34m,\u001b[0m\u001b[0;34m\u001b[0m\u001b[0m\n",
        "\u001b[0;31mKeyboardInterrupt\u001b[0m: "
       ]
      }
     ],
     "prompt_number": 4
    },
    {
     "cell_type": "code",
     "collapsed": false,
     "input": [
      "tree_df.head(12)"
     ],
     "language": "python",
     "metadata": {},
     "outputs": [
      {
       "html": [
        "<div style=\"max-height:1000px;max-width:1500px;overflow:auto;\">\n",
        "<table border=\"1\" class=\"dataframe\">\n",
        "  <thead>\n",
        "    <tr style=\"text-align: right;\">\n",
        "      <th></th>\n",
        "      <th>PhraseId</th>\n",
        "      <th>SentenceId</th>\n",
        "      <th>Phrase</th>\n",
        "      <th>Sentiment</th>\n",
        "      <th>Tree_Depth</th>\n",
        "      <th>Parent_PhraseId</th>\n",
        "    </tr>\n",
        "  </thead>\n",
        "  <tbody>\n",
        "    <tr>\n",
        "      <th>0 </th>\n",
        "      <td>  1</td>\n",
        "      <td> 1</td>\n",
        "      <td> A series of escapades demonstrating the adage ...</td>\n",
        "      <td> 1</td>\n",
        "      <td> 0</td>\n",
        "      <td>NaN</td>\n",
        "    </tr>\n",
        "    <tr>\n",
        "      <th>1 </th>\n",
        "      <td>  2</td>\n",
        "      <td> 1</td>\n",
        "      <td> A series of escapades demonstrating the adage ...</td>\n",
        "      <td> 2</td>\n",
        "      <td> 1</td>\n",
        "      <td>  1</td>\n",
        "    </tr>\n",
        "    <tr>\n",
        "      <th>2 </th>\n",
        "      <td>  3</td>\n",
        "      <td> 1</td>\n",
        "      <td>                                          A series</td>\n",
        "      <td> 2</td>\n",
        "      <td> 2</td>\n",
        "      <td>  2</td>\n",
        "    </tr>\n",
        "    <tr>\n",
        "      <th>3 </th>\n",
        "      <td>  4</td>\n",
        "      <td> 1</td>\n",
        "      <td>                                                 A</td>\n",
        "      <td> 2</td>\n",
        "      <td> 3</td>\n",
        "      <td>  3</td>\n",
        "    </tr>\n",
        "    <tr>\n",
        "      <th>4 </th>\n",
        "      <td>  5</td>\n",
        "      <td> 1</td>\n",
        "      <td>                                            series</td>\n",
        "      <td> 2</td>\n",
        "      <td> 3</td>\n",
        "      <td>  3</td>\n",
        "    </tr>\n",
        "    <tr>\n",
        "      <th>5 </th>\n",
        "      <td>  6</td>\n",
        "      <td> 1</td>\n",
        "      <td> of escapades demonstrating the adage that what...</td>\n",
        "      <td> 2</td>\n",
        "      <td> 2</td>\n",
        "      <td>  2</td>\n",
        "    </tr>\n",
        "    <tr>\n",
        "      <th>6 </th>\n",
        "      <td>  7</td>\n",
        "      <td> 1</td>\n",
        "      <td>                                                of</td>\n",
        "      <td> 2</td>\n",
        "      <td> 3</td>\n",
        "      <td>  6</td>\n",
        "    </tr>\n",
        "    <tr>\n",
        "      <th>7 </th>\n",
        "      <td>  8</td>\n",
        "      <td> 1</td>\n",
        "      <td> escapades demonstrating the adage that what is...</td>\n",
        "      <td> 2</td>\n",
        "      <td> 3</td>\n",
        "      <td>  6</td>\n",
        "    </tr>\n",
        "    <tr>\n",
        "      <th>8 </th>\n",
        "      <td>  9</td>\n",
        "      <td> 1</td>\n",
        "      <td>                                         escapades</td>\n",
        "      <td> 2</td>\n",
        "      <td> 4</td>\n",
        "      <td>  8</td>\n",
        "    </tr>\n",
        "    <tr>\n",
        "      <th>9 </th>\n",
        "      <td> 10</td>\n",
        "      <td> 1</td>\n",
        "      <td> demonstrating the adage that what is good for ...</td>\n",
        "      <td> 2</td>\n",
        "      <td> 4</td>\n",
        "      <td>  8</td>\n",
        "    </tr>\n",
        "    <tr>\n",
        "      <th>10</th>\n",
        "      <td> 11</td>\n",
        "      <td> 1</td>\n",
        "      <td>                           demonstrating the adage</td>\n",
        "      <td> 2</td>\n",
        "      <td> 5</td>\n",
        "      <td> 10</td>\n",
        "    </tr>\n",
        "    <tr>\n",
        "      <th>11</th>\n",
        "      <td> 12</td>\n",
        "      <td> 1</td>\n",
        "      <td>                                     demonstrating</td>\n",
        "      <td> 2</td>\n",
        "      <td> 6</td>\n",
        "      <td> 11</td>\n",
        "    </tr>\n",
        "  </tbody>\n",
        "</table>\n",
        "</div>"
       ],
       "metadata": {},
       "output_type": "pyout",
       "prompt_number": 566,
       "text": [
        "    PhraseId  SentenceId                                             Phrase  \\\n",
        "0          1           1  A series of escapades demonstrating the adage ...   \n",
        "1          2           1  A series of escapades demonstrating the adage ...   \n",
        "2          3           1                                           A series   \n",
        "3          4           1                                                  A   \n",
        "4          5           1                                             series   \n",
        "5          6           1  of escapades demonstrating the adage that what...   \n",
        "6          7           1                                                 of   \n",
        "7          8           1  escapades demonstrating the adage that what is...   \n",
        "8          9           1                                          escapades   \n",
        "9         10           1  demonstrating the adage that what is good for ...   \n",
        "10        11           1                            demonstrating the adage   \n",
        "11        12           1                                      demonstrating   \n",
        "\n",
        "    Sentiment  Tree_Depth  Parent_PhraseId  \n",
        "0           1           0              NaN  \n",
        "1           2           1                1  \n",
        "2           2           2                2  \n",
        "3           2           3                3  \n",
        "4           2           3                3  \n",
        "5           2           2                2  \n",
        "6           2           3                6  \n",
        "7           2           3                6  \n",
        "8           2           4                8  \n",
        "9           2           4                8  \n",
        "10          2           5               10  \n",
        "11          2           6               11  "
       ]
      }
     ],
     "prompt_number": 566
    },
    {
     "cell_type": "code",
     "collapsed": false,
     "input": [
      "plt.hist(tree_df.Tree_Depth.dropna().values, bins=27);\n",
      "plt.title('Tree depths');"
     ],
     "language": "python",
     "metadata": {},
     "outputs": [
      {
       "metadata": {},
       "output_type": "display_data",
       "png": "[encoded data removed]",
       "text": [
        "<matplotlib.figure.Figure at 0x13ae290d0>"
       ]
      }
     ],
     "prompt_number": 299
    },
    {
     "cell_type": "code",
     "collapsed": false,
     "input": [
      "tree_df.to_csv('train_tree.csv')\n",
      "split_df.to_csv('train_split.csv')"
     ],
     "language": "python",
     "metadata": {},
     "outputs": [],
     "prompt_number": 282
    },
    {
     "cell_type": "code",
     "collapsed": false,
     "input": [
      "vectorizer = CountVectorizer(token_pattern=r'b\\w+\\b', max_features=None) \n",
      "#X_nt = vectorizer.fit_transform(nt_phrases)\n",
      "\n",
      "dtm = csr_matrix(vectorizer.fit_transform(df.Phrase))\n",
      "def transform(dtm, df):\n",
      "    # put in tokenizer\n",
      "    phrase_len = np.array(map(lambda x: len(x.split()), df.Phrase))\n",
      "    phrase_to_add = phrase_len.reshape((len(df.Phrase),1))\n",
      "    #len_norm = (phrase_len-phrase_len.mean())/(phrase_len.max()-phrase_len.min())\n",
      "    X = hstack([dtm,phrase_to_add])\n",
      "    #X = hstack([dtm, csr_matrix(len_norm)])\n",
      "    #X_interc = add_dummy_feature(X)\n",
      "    return\n",
      "X = transform(dtm, df)\n",
      "y = df.Sentiment.astype('int')"
     ],
     "language": "python",
     "metadata": {},
     "outputs": [],
     "prompt_number": 563
    },
    {
     "cell_type": "code",
     "collapsed": false,
     "input": [
      "X_train, X_test, y_train, y_test = train_test_split(X,y, test_size=0.2,random_state=12)  \n",
      "n_train = X_train.shape[0]\n",
      "n_test = X_test.shape[0]"
     ],
     "language": "python",
     "metadata": {},
     "outputs": [
      {
       "ename": "TypeError",
       "evalue": "Expected sequence or array-like, got None",
       "output_type": "pyerr",
       "traceback": [
        "\u001b[0;31m---------------------------------------------------------------------------\u001b[0m\n\u001b[0;31mTypeError\u001b[0m                                 Traceback (most recent call last)",
        "\u001b[0;32m<ipython-input-564-b4b2cf7eedef>\u001b[0m in \u001b[0;36m<module>\u001b[0;34m()\u001b[0m\n\u001b[0;32m----> 1\u001b[0;31m \u001b[0mX_train\u001b[0m\u001b[0;34m,\u001b[0m \u001b[0mX_test\u001b[0m\u001b[0;34m,\u001b[0m \u001b[0my_train\u001b[0m\u001b[0;34m,\u001b[0m \u001b[0my_test\u001b[0m \u001b[0;34m=\u001b[0m \u001b[0mtrain_test_split\u001b[0m\u001b[0;34m(\u001b[0m\u001b[0mX\u001b[0m\u001b[0;34m,\u001b[0m\u001b[0my\u001b[0m\u001b[0;34m,\u001b[0m \u001b[0mtest_size\u001b[0m\u001b[0;34m=\u001b[0m\u001b[0;36m0.2\u001b[0m\u001b[0;34m,\u001b[0m\u001b[0mrandom_state\u001b[0m\u001b[0;34m=\u001b[0m\u001b[0;36m12\u001b[0m\u001b[0;34m)\u001b[0m\u001b[0;34m\u001b[0m\u001b[0m\n\u001b[0m\u001b[1;32m      2\u001b[0m \u001b[0mn_train\u001b[0m \u001b[0;34m=\u001b[0m \u001b[0mX_train\u001b[0m\u001b[0;34m.\u001b[0m\u001b[0mshape\u001b[0m\u001b[0;34m[\u001b[0m\u001b[0;36m0\u001b[0m\u001b[0;34m]\u001b[0m\u001b[0;34m\u001b[0m\u001b[0m\n\u001b[1;32m      3\u001b[0m \u001b[0mn_test\u001b[0m \u001b[0;34m=\u001b[0m \u001b[0mX_test\u001b[0m\u001b[0;34m.\u001b[0m\u001b[0mshape\u001b[0m\u001b[0;34m[\u001b[0m\u001b[0;36m0\u001b[0m\u001b[0;34m]\u001b[0m\u001b[0;34m\u001b[0m\u001b[0m\n",
        "\u001b[0;32m/Users/yukatherin/Applications/anaconda/lib/python2.7/site-packages/sklearn/cross_validation.pyc\u001b[0m in \u001b[0;36mtrain_test_split\u001b[0;34m(*arrays, **options)\u001b[0m\n\u001b[1;32m   1554\u001b[0m         \u001b[0mtest_size\u001b[0m \u001b[0;34m=\u001b[0m \u001b[0;36m0.25\u001b[0m\u001b[0;34m\u001b[0m\u001b[0m\n\u001b[1;32m   1555\u001b[0m \u001b[0;34m\u001b[0m\u001b[0m\n\u001b[0;32m-> 1556\u001b[0;31m     \u001b[0marrays\u001b[0m \u001b[0;34m=\u001b[0m \u001b[0mcheck_arrays\u001b[0m\u001b[0;34m(\u001b[0m\u001b[0;34m*\u001b[0m\u001b[0marrays\u001b[0m\u001b[0;34m,\u001b[0m \u001b[0;34m**\u001b[0m\u001b[0moptions\u001b[0m\u001b[0;34m)\u001b[0m\u001b[0;34m\u001b[0m\u001b[0m\n\u001b[0m\u001b[1;32m   1557\u001b[0m     \u001b[0mn_samples\u001b[0m \u001b[0;34m=\u001b[0m \u001b[0m_num_samples\u001b[0m\u001b[0;34m(\u001b[0m\u001b[0marrays\u001b[0m\u001b[0;34m[\u001b[0m\u001b[0;36m0\u001b[0m\u001b[0;34m]\u001b[0m\u001b[0;34m)\u001b[0m\u001b[0;34m\u001b[0m\u001b[0m\n\u001b[1;32m   1558\u001b[0m     cv = ShuffleSplit(n_samples, test_size=test_size,\n",
        "\u001b[0;32m/Users/yukatherin/Applications/anaconda/lib/python2.7/site-packages/sklearn/utils/validation.pyc\u001b[0m in \u001b[0;36mcheck_arrays\u001b[0;34m(*arrays, **options)\u001b[0m\n\u001b[1;32m    239\u001b[0m         \u001b[0;32mreturn\u001b[0m \u001b[0mNone\u001b[0m\u001b[0;34m\u001b[0m\u001b[0m\n\u001b[1;32m    240\u001b[0m \u001b[0;34m\u001b[0m\u001b[0m\n\u001b[0;32m--> 241\u001b[0;31m     \u001b[0mn_samples\u001b[0m \u001b[0;34m=\u001b[0m \u001b[0m_num_samples\u001b[0m\u001b[0;34m(\u001b[0m\u001b[0marrays\u001b[0m\u001b[0;34m[\u001b[0m\u001b[0;36m0\u001b[0m\u001b[0;34m]\u001b[0m\u001b[0;34m)\u001b[0m\u001b[0;34m\u001b[0m\u001b[0m\n\u001b[0m\u001b[1;32m    242\u001b[0m \u001b[0;34m\u001b[0m\u001b[0m\n\u001b[1;32m    243\u001b[0m     \u001b[0mchecked_arrays\u001b[0m \u001b[0;34m=\u001b[0m \u001b[0;34m[\u001b[0m\u001b[0;34m]\u001b[0m\u001b[0;34m\u001b[0m\u001b[0m\n",
        "\u001b[0;32m/Users/yukatherin/Applications/anaconda/lib/python2.7/site-packages/sklearn/utils/validation.pyc\u001b[0m in \u001b[0;36m_num_samples\u001b[0;34m(x)\u001b[0m\n\u001b[1;32m    172\u001b[0m             \u001b[0mx\u001b[0m \u001b[0;34m=\u001b[0m \u001b[0mnp\u001b[0m\u001b[0;34m.\u001b[0m\u001b[0masarray\u001b[0m\u001b[0;34m(\u001b[0m\u001b[0mx\u001b[0m\u001b[0;34m)\u001b[0m\u001b[0;34m\u001b[0m\u001b[0m\n\u001b[1;32m    173\u001b[0m         \u001b[0;32melse\u001b[0m\u001b[0;34m:\u001b[0m\u001b[0;34m\u001b[0m\u001b[0m\n\u001b[0;32m--> 174\u001b[0;31m             \u001b[0;32mraise\u001b[0m \u001b[0mTypeError\u001b[0m\u001b[0;34m(\u001b[0m\u001b[0;34m\"Expected sequence or array-like, got %r\"\u001b[0m \u001b[0;34m%\u001b[0m \u001b[0mx\u001b[0m\u001b[0;34m)\u001b[0m\u001b[0;34m\u001b[0m\u001b[0m\n\u001b[0m\u001b[1;32m    175\u001b[0m     \u001b[0;32mreturn\u001b[0m \u001b[0mx\u001b[0m\u001b[0;34m.\u001b[0m\u001b[0mshape\u001b[0m\u001b[0;34m[\u001b[0m\u001b[0;36m0\u001b[0m\u001b[0;34m]\u001b[0m \u001b[0;32mif\u001b[0m \u001b[0mhasattr\u001b[0m\u001b[0;34m(\u001b[0m\u001b[0mx\u001b[0m\u001b[0;34m,\u001b[0m \u001b[0;34m'shape'\u001b[0m\u001b[0;34m)\u001b[0m \u001b[0;32melse\u001b[0m \u001b[0mlen\u001b[0m\u001b[0;34m(\u001b[0m\u001b[0mx\u001b[0m\u001b[0;34m)\u001b[0m\u001b[0;34m\u001b[0m\u001b[0m\n\u001b[1;32m    176\u001b[0m \u001b[0;34m\u001b[0m\u001b[0m\n",
        "\u001b[0;31mTypeError\u001b[0m: Expected sequence or array-like, got None"
       ]
      }
     ],
     "prompt_number": 564
    },
    {
     "cell_type": "code",
     "collapsed": false,
     "input": [
      "class_wt = dict([(0,2.),(1,1.29), (2,1.), (3,1.29), (4,2.)])\n",
      "logistic_modelwt = LogisticRegression(class_weight = class_wt)\n",
      "logistic_modelwt = logistic_modelwt.fit(X_train,y_train)\n",
      "logistic_model = LogisticRegression()\n",
      "logistic_model = logistic_model.fit(X_train,y_train)\n",
      "logistic_modelwt.score(X_test,y_test), logistic_model.score(X_test, y_test)\n",
      "\n"
     ],
     "language": "python",
     "metadata": {},
     "outputs": [
      {
       "metadata": {},
       "output_type": "pyout",
       "prompt_number": 556,
       "text": [
        "(0.53075740099961555, 0.52925156990900935)"
       ]
      }
     ],
     "prompt_number": 556
    },
    {
     "cell_type": "code",
     "collapsed": false,
     "input": [
      "df.head()"
     ],
     "language": "python",
     "metadata": {},
     "outputs": [
      {
       "html": [
        "<div style=\"max-height:1000px;max-width:1500px;overflow:auto;\">\n",
        "<table border=\"1\" class=\"dataframe\">\n",
        "  <thead>\n",
        "    <tr style=\"text-align: right;\">\n",
        "      <th></th>\n",
        "      <th>PhraseId</th>\n",
        "      <th>SentenceId</th>\n",
        "      <th>Phrase</th>\n",
        "      <th>Sentiment</th>\n",
        "    </tr>\n",
        "  </thead>\n",
        "  <tbody>\n",
        "    <tr>\n",
        "      <th>0</th>\n",
        "      <td> 1</td>\n",
        "      <td> 1</td>\n",
        "      <td> A series of escapades demonstrating the adage ...</td>\n",
        "      <td> 1</td>\n",
        "    </tr>\n",
        "    <tr>\n",
        "      <th>1</th>\n",
        "      <td> 2</td>\n",
        "      <td> 1</td>\n",
        "      <td> A series of escapades demonstrating the adage ...</td>\n",
        "      <td> 2</td>\n",
        "    </tr>\n",
        "    <tr>\n",
        "      <th>2</th>\n",
        "      <td> 3</td>\n",
        "      <td> 1</td>\n",
        "      <td>                                          A series</td>\n",
        "      <td> 2</td>\n",
        "    </tr>\n",
        "    <tr>\n",
        "      <th>3</th>\n",
        "      <td> 4</td>\n",
        "      <td> 1</td>\n",
        "      <td>                                                 A</td>\n",
        "      <td> 2</td>\n",
        "    </tr>\n",
        "    <tr>\n",
        "      <th>4</th>\n",
        "      <td> 5</td>\n",
        "      <td> 1</td>\n",
        "      <td>                                            series</td>\n",
        "      <td> 2</td>\n",
        "    </tr>\n",
        "  </tbody>\n",
        "</table>\n",
        "</div>"
       ],
       "metadata": {},
       "output_type": "pyout",
       "prompt_number": 565,
       "text": [
        "   PhraseId  SentenceId                                             Phrase  \\\n",
        "0         1           1  A series of escapades demonstrating the adage ...   \n",
        "1         2           1  A series of escapades demonstrating the adage ...   \n",
        "2         3           1                                           A series   \n",
        "3         4           1                                                  A   \n",
        "4         5           1                                             series   \n",
        "\n",
        "   Sentiment  \n",
        "0          1  \n",
        "1          2  \n",
        "2          2  \n",
        "3          2  \n",
        "4          2  "
       ]
      }
     ],
     "prompt_number": 565
    },
    {
     "cell_type": "code",
     "collapsed": false,
     "input": [
      "test_dtm = csr_matrix(vectorizer.fit_transform(testdf.Phrase))\n",
      "test_X = transform(test_dtm, testdf)\n"
     ],
     "language": "python",
     "metadata": {},
     "outputs": [
      {
       "ename": "AttributeError",
       "evalue": "'DataFrame' object has no attribute 'Sentiment'",
       "output_type": "pyerr",
       "traceback": [
        "\u001b[0;31m---------------------------------------------------------------------------\u001b[0m\n\u001b[0;31mAttributeError\u001b[0m                            Traceback (most recent call last)",
        "\u001b[0;32m<ipython-input-560-c40fd2e95995>\u001b[0m in \u001b[0;36m<module>\u001b[0;34m()\u001b[0m\n\u001b[1;32m      1\u001b[0m \u001b[0mtest_dtm\u001b[0m \u001b[0;34m=\u001b[0m \u001b[0mcsr_matrix\u001b[0m\u001b[0;34m(\u001b[0m\u001b[0mvectorizer\u001b[0m\u001b[0;34m.\u001b[0m\u001b[0mfit_transform\u001b[0m\u001b[0;34m(\u001b[0m\u001b[0mtestdf\u001b[0m\u001b[0;34m.\u001b[0m\u001b[0mPhrase\u001b[0m\u001b[0;34m)\u001b[0m\u001b[0;34m)\u001b[0m\u001b[0;34m\u001b[0m\u001b[0m\n\u001b[0;32m----> 2\u001b[0;31m \u001b[0mtest_X\u001b[0m \u001b[0;34m=\u001b[0m \u001b[0mtransform\u001b[0m\u001b[0;34m(\u001b[0m\u001b[0mtest_dtm\u001b[0m\u001b[0;34m,\u001b[0m \u001b[0mtestdf\u001b[0m\u001b[0;34m)\u001b[0m\u001b[0;34m\u001b[0m\u001b[0m\n\u001b[0m",
        "\u001b[0;32m<ipython-input-559-65dea77b800d>\u001b[0m in \u001b[0;36mtransform\u001b[0;34m(dtm, df)\u001b[0m\n\u001b[1;32m      8\u001b[0m     \u001b[0mphrase_to_add\u001b[0m \u001b[0;34m=\u001b[0m \u001b[0mphrase_len\u001b[0m\u001b[0;34m.\u001b[0m\u001b[0mreshape\u001b[0m\u001b[0;34m(\u001b[0m\u001b[0;34m(\u001b[0m\u001b[0mlen\u001b[0m\u001b[0;34m(\u001b[0m\u001b[0mdf\u001b[0m\u001b[0;34m.\u001b[0m\u001b[0mPhrase\u001b[0m\u001b[0;34m)\u001b[0m\u001b[0;34m,\u001b[0m\u001b[0;36m1\u001b[0m\u001b[0;34m)\u001b[0m\u001b[0;34m)\u001b[0m\u001b[0;34m\u001b[0m\u001b[0m\n\u001b[1;32m      9\u001b[0m     \u001b[0;31m#len_norm = (phrase_len-phrase_len.mean())/(phrase_len.max()-phrase_len.min())\u001b[0m\u001b[0;34m\u001b[0m\u001b[0;34m\u001b[0m\u001b[0m\n\u001b[0;32m---> 10\u001b[0;31m     \u001b[0mtarget\u001b[0m \u001b[0;34m=\u001b[0m \u001b[0mdf\u001b[0m\u001b[0;34m.\u001b[0m\u001b[0mSentiment\u001b[0m\u001b[0;34m.\u001b[0m\u001b[0mastype\u001b[0m\u001b[0;34m(\u001b[0m\u001b[0;34m'int'\u001b[0m\u001b[0;34m)\u001b[0m\u001b[0;34m\u001b[0m\u001b[0m\n\u001b[0m\u001b[1;32m     11\u001b[0m     \u001b[0mX\u001b[0m \u001b[0;34m=\u001b[0m \u001b[0mhstack\u001b[0m\u001b[0;34m(\u001b[0m\u001b[0;34m[\u001b[0m\u001b[0mdtm\u001b[0m\u001b[0;34m,\u001b[0m\u001b[0mphrase_to_add\u001b[0m\u001b[0;34m]\u001b[0m\u001b[0;34m)\u001b[0m\u001b[0;34m\u001b[0m\u001b[0m\n\u001b[1;32m     12\u001b[0m     \u001b[0;31m#X = hstack([dtm, csr_matrix(len_norm)])\u001b[0m\u001b[0;34m\u001b[0m\u001b[0;34m\u001b[0m\u001b[0m\n",
        "\u001b[0;32m/Users/yukatherin/Applications/anaconda/lib/python2.7/site-packages/pandas/core/generic.pyc\u001b[0m in \u001b[0;36m__getattr__\u001b[0;34m(self, name)\u001b[0m\n\u001b[1;32m   1841\u001b[0m                 \u001b[0;32mreturn\u001b[0m \u001b[0mself\u001b[0m\u001b[0;34m[\u001b[0m\u001b[0mname\u001b[0m\u001b[0;34m]\u001b[0m\u001b[0;34m\u001b[0m\u001b[0m\n\u001b[1;32m   1842\u001b[0m             raise AttributeError(\"'%s' object has no attribute '%s'\" %\n\u001b[0;32m-> 1843\u001b[0;31m                                  (type(self).__name__, name))\n\u001b[0m\u001b[1;32m   1844\u001b[0m \u001b[0;34m\u001b[0m\u001b[0m\n\u001b[1;32m   1845\u001b[0m     \u001b[0;32mdef\u001b[0m \u001b[0m__setattr__\u001b[0m\u001b[0;34m(\u001b[0m\u001b[0mself\u001b[0m\u001b[0;34m,\u001b[0m \u001b[0mname\u001b[0m\u001b[0;34m,\u001b[0m \u001b[0mvalue\u001b[0m\u001b[0;34m)\u001b[0m\u001b[0;34m:\u001b[0m\u001b[0;34m\u001b[0m\u001b[0m\n",
        "\u001b[0;31mAttributeError\u001b[0m: 'DataFrame' object has no attribute 'Sentiment'"
       ]
      }
     ],
     "prompt_number": 560
    },
    {
     "cell_type": "code",
     "collapsed": false,
     "input": [
      "plt.hist(logistic_modelwt.predict(X_test), alpha=0.5, label='predicted');\n",
      "plt.hist(y_test, alpha=0.5);\n",
      "plt.legend();"
     ],
     "language": "python",
     "metadata": {},
     "outputs": [
      {
       "metadata": {},
       "output_type": "display_data",
       "png": "[encoded data removed]",
       "text": [
        "<matplotlib.figure.Figure at 0x13bf47d90>"
       ]
      }
     ],
     "prompt_number": 532
    },
    {
     "cell_type": "code",
     "collapsed": false,
     "input": [
      "# vocab = vectorizer.vocabulary_\n",
      "# inv_vocab = dict([(v,k) for k,v in vocab.iteritems()])\n",
      "# top_idx = np.argsort(logistic_model.coef_[1])[::-1][:100]\n",
      "# [inv_vocab[i] for i in top_idx] #???"
     ],
     "language": "python",
     "metadata": {},
     "outputs": [],
     "prompt_number": 547
    },
    {
     "cell_type": "code",
     "collapsed": false,
     "input": [
      "xx = X.tocsr()[0,:]\n",
      "np.where(xx.toarray()>0)[1]"
     ],
     "language": "python",
     "metadata": {},
     "outputs": [
      {
       "metadata": {},
       "output_type": "pyout",
       "prompt_number": 551,
       "text": [
        "array([1232, 1275])"
       ]
      }
     ],
     "prompt_number": 551
    },
    {
     "cell_type": "code",
     "collapsed": false,
     "input": [
      "\n",
      "bins = [(0,2), (2,infty)]\n",
      "y_pred = np.zeros_like(target)\n",
      "for i in range(len(bins)):\n",
      "    bin_mask = np.where(np.logical_and(phrase_len> bins[i][0], phrase_len<=bins[i][1]))[0]\n",
      "    Xbin = X.tocsr()[bin_mask,:]\n",
      "    ybin = target[bin_mask]\n",
      "    X_trainbin, X_testbin, y_trainbin, y_testbin = train_test_split(Xbin, ybin)\n",
      "    lr = LogisticRegression()\n",
      "    lr.fit(X_trainbin, y_trainbin)\n",
      "    print bins[i],len(bin_mask), lr.score(X_testbin, y_testbin)\n",
      "\n",
      "\n"
     ],
     "language": "python",
     "metadata": {},
     "outputs": [
      {
       "output_type": "stream",
       "stream": "stdout",
       "text": [
        "(0, 2) 42490 0.712134048762\n",
        "(2, inf)"
       ]
      },
      {
       "output_type": "stream",
       "stream": "stdout",
       "text": [
        " 113569 0.462226605149\n"
       ]
      }
     ],
     "prompt_number": 455
    },
    {
     "cell_type": "code",
     "collapsed": false,
     "input": [
      "# two estimator prediction\n",
      "y_pred = np.zeros_like(y_test)\n",
      "bin_mask = np.where(np.logical_and(phrase_len> bins[0][0], phrase_len<=bins[0][1]))[0]\n",
      "lrbin.fit(X_trainbin)\n",
      "\n"
     ],
     "language": "python",
     "metadata": {},
     "outputs": [],
     "prompt_number": 460
    },
    {
     "cell_type": "code",
     "collapsed": false,
     "input": [
      "testdf.head(50)"
     ],
     "language": "python",
     "metadata": {},
     "outputs": [
      {
       "html": [
        "<div style=\"max-height:1000px;max-width:1500px;overflow:auto;\">\n",
        "<table border=\"1\" class=\"dataframe\">\n",
        "  <thead>\n",
        "    <tr style=\"text-align: right;\">\n",
        "      <th></th>\n",
        "      <th>PhraseId</th>\n",
        "      <th>SentenceId</th>\n",
        "      <th>Phrase</th>\n",
        "    </tr>\n",
        "  </thead>\n",
        "  <tbody>\n",
        "    <tr>\n",
        "      <th>0 </th>\n",
        "      <td> 156061</td>\n",
        "      <td> 8545</td>\n",
        "      <td> An intermittently pleasing but mostly routine ...</td>\n",
        "    </tr>\n",
        "    <tr>\n",
        "      <th>1 </th>\n",
        "      <td> 156062</td>\n",
        "      <td> 8545</td>\n",
        "      <td> An intermittently pleasing but mostly routine ...</td>\n",
        "    </tr>\n",
        "    <tr>\n",
        "      <th>2 </th>\n",
        "      <td> 156063</td>\n",
        "      <td> 8545</td>\n",
        "      <td>                                                An</td>\n",
        "    </tr>\n",
        "    <tr>\n",
        "      <th>3 </th>\n",
        "      <td> 156064</td>\n",
        "      <td> 8545</td>\n",
        "      <td> intermittently pleasing but mostly routine effort</td>\n",
        "    </tr>\n",
        "    <tr>\n",
        "      <th>4 </th>\n",
        "      <td> 156065</td>\n",
        "      <td> 8545</td>\n",
        "      <td>        intermittently pleasing but mostly routine</td>\n",
        "    </tr>\n",
        "    <tr>\n",
        "      <th>5 </th>\n",
        "      <td> 156066</td>\n",
        "      <td> 8545</td>\n",
        "      <td>                       intermittently pleasing but</td>\n",
        "    </tr>\n",
        "    <tr>\n",
        "      <th>6 </th>\n",
        "      <td> 156067</td>\n",
        "      <td> 8545</td>\n",
        "      <td>                           intermittently pleasing</td>\n",
        "    </tr>\n",
        "    <tr>\n",
        "      <th>7 </th>\n",
        "      <td> 156068</td>\n",
        "      <td> 8545</td>\n",
        "      <td>                                    intermittently</td>\n",
        "    </tr>\n",
        "    <tr>\n",
        "      <th>8 </th>\n",
        "      <td> 156069</td>\n",
        "      <td> 8545</td>\n",
        "      <td>                                          pleasing</td>\n",
        "    </tr>\n",
        "    <tr>\n",
        "      <th>9 </th>\n",
        "      <td> 156070</td>\n",
        "      <td> 8545</td>\n",
        "      <td>                                               but</td>\n",
        "    </tr>\n",
        "    <tr>\n",
        "      <th>10</th>\n",
        "      <td> 156071</td>\n",
        "      <td> 8545</td>\n",
        "      <td>                                    mostly routine</td>\n",
        "    </tr>\n",
        "    <tr>\n",
        "      <th>11</th>\n",
        "      <td> 156072</td>\n",
        "      <td> 8545</td>\n",
        "      <td>                                            mostly</td>\n",
        "    </tr>\n",
        "    <tr>\n",
        "      <th>12</th>\n",
        "      <td> 156073</td>\n",
        "      <td> 8545</td>\n",
        "      <td>                                           routine</td>\n",
        "    </tr>\n",
        "    <tr>\n",
        "      <th>13</th>\n",
        "      <td> 156074</td>\n",
        "      <td> 8545</td>\n",
        "      <td>                                            effort</td>\n",
        "    </tr>\n",
        "    <tr>\n",
        "      <th>14</th>\n",
        "      <td> 156075</td>\n",
        "      <td> 8545</td>\n",
        "      <td>                                                 .</td>\n",
        "    </tr>\n",
        "    <tr>\n",
        "      <th>15</th>\n",
        "      <td> 156076</td>\n",
        "      <td> 8546</td>\n",
        "      <td> Kidman is really the only thing that 's worth ...</td>\n",
        "    </tr>\n",
        "    <tr>\n",
        "      <th>16</th>\n",
        "      <td> 156077</td>\n",
        "      <td> 8546</td>\n",
        "      <td>                                            Kidman</td>\n",
        "    </tr>\n",
        "    <tr>\n",
        "      <th>17</th>\n",
        "      <td> 156078</td>\n",
        "      <td> 8546</td>\n",
        "      <td> is really the only thing that 's worth watchin...</td>\n",
        "    </tr>\n",
        "    <tr>\n",
        "      <th>18</th>\n",
        "      <td> 156079</td>\n",
        "      <td> 8546</td>\n",
        "      <td> is really the only thing that 's worth watchin...</td>\n",
        "    </tr>\n",
        "    <tr>\n",
        "      <th>19</th>\n",
        "      <td> 156080</td>\n",
        "      <td> 8546</td>\n",
        "      <td>                                         is really</td>\n",
        "    </tr>\n",
        "    <tr>\n",
        "      <th>20</th>\n",
        "      <td> 156081</td>\n",
        "      <td> 8546</td>\n",
        "      <td>                                                is</td>\n",
        "    </tr>\n",
        "    <tr>\n",
        "      <th>21</th>\n",
        "      <td> 156082</td>\n",
        "      <td> 8546</td>\n",
        "      <td>                                            really</td>\n",
        "    </tr>\n",
        "    <tr>\n",
        "      <th>22</th>\n",
        "      <td> 156083</td>\n",
        "      <td> 8546</td>\n",
        "      <td> the only thing that 's worth watching in Birth...</td>\n",
        "    </tr>\n",
        "    <tr>\n",
        "      <th>23</th>\n",
        "      <td> 156084</td>\n",
        "      <td> 8546</td>\n",
        "      <td>                                    the only thing</td>\n",
        "    </tr>\n",
        "    <tr>\n",
        "      <th>24</th>\n",
        "      <td> 156085</td>\n",
        "      <td> 8546</td>\n",
        "      <td>                                               the</td>\n",
        "    </tr>\n",
        "    <tr>\n",
        "      <th>25</th>\n",
        "      <td> 156086</td>\n",
        "      <td> 8546</td>\n",
        "      <td>                                        only thing</td>\n",
        "    </tr>\n",
        "    <tr>\n",
        "      <th>26</th>\n",
        "      <td> 156087</td>\n",
        "      <td> 8546</td>\n",
        "      <td>                                              only</td>\n",
        "    </tr>\n",
        "    <tr>\n",
        "      <th>27</th>\n",
        "      <td> 156088</td>\n",
        "      <td> 8546</td>\n",
        "      <td>                                             thing</td>\n",
        "    </tr>\n",
        "    <tr>\n",
        "      <th>28</th>\n",
        "      <td> 156089</td>\n",
        "      <td> 8546</td>\n",
        "      <td> that 's worth watching in Birthday Girl , a fi...</td>\n",
        "    </tr>\n",
        "    <tr>\n",
        "      <th>29</th>\n",
        "      <td> 156090</td>\n",
        "      <td> 8546</td>\n",
        "      <td>                                              that</td>\n",
        "    </tr>\n",
        "    <tr>\n",
        "      <th>30</th>\n",
        "      <td> 156091</td>\n",
        "      <td> 8546</td>\n",
        "      <td> 's worth watching in Birthday Girl , a film by...</td>\n",
        "    </tr>\n",
        "    <tr>\n",
        "      <th>31</th>\n",
        "      <td> 156092</td>\n",
        "      <td> 8546</td>\n",
        "      <td> 's worth watching in Birthday Girl , a film by...</td>\n",
        "    </tr>\n",
        "    <tr>\n",
        "      <th>32</th>\n",
        "      <td> 156093</td>\n",
        "      <td> 8546</td>\n",
        "      <td> 's worth watching in Birthday Girl , a film by...</td>\n",
        "    </tr>\n",
        "    <tr>\n",
        "      <th>33</th>\n",
        "      <td> 156094</td>\n",
        "      <td> 8546</td>\n",
        "      <td>                                          's worth</td>\n",
        "    </tr>\n",
        "    <tr>\n",
        "      <th>34</th>\n",
        "      <td> 156095</td>\n",
        "      <td> 8546</td>\n",
        "      <td>                                                's</td>\n",
        "    </tr>\n",
        "    <tr>\n",
        "      <th>35</th>\n",
        "      <td> 156096</td>\n",
        "      <td> 8546</td>\n",
        "      <td>                                             worth</td>\n",
        "    </tr>\n",
        "    <tr>\n",
        "      <th>36</th>\n",
        "      <td> 156097</td>\n",
        "      <td> 8546</td>\n",
        "      <td> watching in Birthday Girl , a film by the stag...</td>\n",
        "    </tr>\n",
        "    <tr>\n",
        "      <th>37</th>\n",
        "      <td> 156098</td>\n",
        "      <td> 8546</td>\n",
        "      <td>                watching in Birthday Girl , a film</td>\n",
        "    </tr>\n",
        "    <tr>\n",
        "      <th>38</th>\n",
        "      <td> 156099</td>\n",
        "      <td> 8546</td>\n",
        "      <td>                                          watching</td>\n",
        "    </tr>\n",
        "    <tr>\n",
        "      <th>39</th>\n",
        "      <td> 156100</td>\n",
        "      <td> 8546</td>\n",
        "      <td>                         in Birthday Girl , a film</td>\n",
        "    </tr>\n",
        "    <tr>\n",
        "      <th>40</th>\n",
        "      <td> 156101</td>\n",
        "      <td> 8546</td>\n",
        "      <td>                                                in</td>\n",
        "    </tr>\n",
        "    <tr>\n",
        "      <th>41</th>\n",
        "      <td> 156102</td>\n",
        "      <td> 8546</td>\n",
        "      <td>                            Birthday Girl , a film</td>\n",
        "    </tr>\n",
        "    <tr>\n",
        "      <th>42</th>\n",
        "      <td> 156103</td>\n",
        "      <td> 8546</td>\n",
        "      <td>                                   Birthday Girl ,</td>\n",
        "    </tr>\n",
        "    <tr>\n",
        "      <th>43</th>\n",
        "      <td> 156104</td>\n",
        "      <td> 8546</td>\n",
        "      <td>                                     Birthday Girl</td>\n",
        "    </tr>\n",
        "    <tr>\n",
        "      <th>44</th>\n",
        "      <td> 156105</td>\n",
        "      <td> 8546</td>\n",
        "      <td>                                          Birthday</td>\n",
        "    </tr>\n",
        "    <tr>\n",
        "      <th>45</th>\n",
        "      <td> 156106</td>\n",
        "      <td> 8546</td>\n",
        "      <td>                                              Girl</td>\n",
        "    </tr>\n",
        "    <tr>\n",
        "      <th>46</th>\n",
        "      <td> 156107</td>\n",
        "      <td> 8546</td>\n",
        "      <td>                                                 ,</td>\n",
        "    </tr>\n",
        "    <tr>\n",
        "      <th>47</th>\n",
        "      <td> 156108</td>\n",
        "      <td> 8546</td>\n",
        "      <td>                                            a film</td>\n",
        "    </tr>\n",
        "    <tr>\n",
        "      <th>48</th>\n",
        "      <td> 156109</td>\n",
        "      <td> 8546</td>\n",
        "      <td>                                                 a</td>\n",
        "    </tr>\n",
        "    <tr>\n",
        "      <th>49</th>\n",
        "      <td> 156110</td>\n",
        "      <td> 8546</td>\n",
        "      <td>                                              film</td>\n",
        "    </tr>\n",
        "  </tbody>\n",
        "</table>\n",
        "</div>"
       ],
       "metadata": {},
       "output_type": "pyout",
       "prompt_number": 463,
       "text": [
        "    PhraseId  SentenceId                                             Phrase\n",
        "0     156061        8545  An intermittently pleasing but mostly routine ...\n",
        "1     156062        8545  An intermittently pleasing but mostly routine ...\n",
        "2     156063        8545                                                 An\n",
        "3     156064        8545  intermittently pleasing but mostly routine effort\n",
        "4     156065        8545         intermittently pleasing but mostly routine\n",
        "5     156066        8545                        intermittently pleasing but\n",
        "6     156067        8545                            intermittently pleasing\n",
        "7     156068        8545                                     intermittently\n",
        "8     156069        8545                                           pleasing\n",
        "9     156070        8545                                                but\n",
        "10    156071        8545                                     mostly routine\n",
        "11    156072        8545                                             mostly\n",
        "12    156073        8545                                            routine\n",
        "13    156074        8545                                             effort\n",
        "14    156075        8545                                                  .\n",
        "15    156076        8546  Kidman is really the only thing that 's worth ...\n",
        "16    156077        8546                                             Kidman\n",
        "17    156078        8546  is really the only thing that 's worth watchin...\n",
        "18    156079        8546  is really the only thing that 's worth watchin...\n",
        "19    156080        8546                                          is really\n",
        "20    156081        8546                                                 is\n",
        "21    156082        8546                                             really\n",
        "22    156083        8546  the only thing that 's worth watching in Birth...\n",
        "23    156084        8546                                     the only thing\n",
        "24    156085        8546                                                the\n",
        "25    156086        8546                                         only thing\n",
        "26    156087        8546                                               only\n",
        "27    156088        8546                                              thing\n",
        "28    156089        8546  that 's worth watching in Birthday Girl , a fi...\n",
        "29    156090        8546                                               that\n",
        "30    156091        8546  's worth watching in Birthday Girl , a film by...\n",
        "31    156092        8546  's worth watching in Birthday Girl , a film by...\n",
        "32    156093        8546  's worth watching in Birthday Girl , a film by...\n",
        "33    156094        8546                                           's worth\n",
        "34    156095        8546                                                 's\n",
        "35    156096        8546                                              worth\n",
        "36    156097        8546  watching in Birthday Girl , a film by the stag...\n",
        "37    156098        8546                 watching in Birthday Girl , a film\n",
        "38    156099        8546                                           watching\n",
        "39    156100        8546                          in Birthday Girl , a film\n",
        "40    156101        8546                                                 in\n",
        "41    156102        8546                             Birthday Girl , a film\n",
        "42    156103        8546                                    Birthday Girl ,\n",
        "43    156104        8546                                      Birthday Girl\n",
        "44    156105        8546                                           Birthday\n",
        "45    156106        8546                                               Girl\n",
        "46    156107        8546                                                  ,\n",
        "47    156108        8546                                             a film\n",
        "48    156109        8546                                                  a\n",
        "49    156110        8546                                               film"
       ]
      }
     ],
     "prompt_number": 463
    },
    {
     "cell_type": "code",
     "collapsed": false,
     "input": [
      "55549.668389355764/X.shape[0]"
     ],
     "language": "python",
     "metadata": {},
     "outputs": [
      {
       "metadata": {},
       "output_type": "pyout",
       "prompt_number": 457,
       "text": [
        "0.3559507137598088"
       ]
      }
     ],
     "prompt_number": 457
    },
    {
     "cell_type": "code",
     "collapsed": false,
     "input": [
      "sentidf = pd.read_csv('data/sentiwordnet.tsv', sep='\\t')"
     ],
     "language": "python",
     "metadata": {},
     "outputs": [],
     "prompt_number": 433
    },
    {
     "cell_type": "code",
     "collapsed": false,
     "input": [
      "print sentidf.shape\n",
      "sentidf.head()"
     ],
     "language": "python",
     "metadata": {},
     "outputs": [
      {
       "output_type": "stream",
       "stream": "stdout",
       "text": [
        "(117660, 6)\n"
       ]
      },
      {
       "html": [
        "<div style=\"max-height:1000px;max-width:1500px;overflow:auto;\">\n",
        "<table border=\"1\" class=\"dataframe\">\n",
        "  <thead>\n",
        "    <tr style=\"text-align: right;\">\n",
        "      <th></th>\n",
        "      <th>POS</th>\n",
        "      <th>ID</th>\n",
        "      <th>PosScore</th>\n",
        "      <th>NegScore</th>\n",
        "      <th>SynsetTerms</th>\n",
        "      <th>Gloss</th>\n",
        "    </tr>\n",
        "  </thead>\n",
        "  <tbody>\n",
        "    <tr>\n",
        "      <th>0</th>\n",
        "      <td> a</td>\n",
        "      <td> 1740</td>\n",
        "      <td> 0.125</td>\n",
        "      <td> 0.00</td>\n",
        "      <td>              able#1</td>\n",
        "      <td> (usually followed by `to') having the necessar...</td>\n",
        "    </tr>\n",
        "    <tr>\n",
        "      <th>1</th>\n",
        "      <td> a</td>\n",
        "      <td> 2098</td>\n",
        "      <td> 0.000</td>\n",
        "      <td> 0.75</td>\n",
        "      <td>            unable#1</td>\n",
        "      <td> (usually followed by `to') not having the nece...</td>\n",
        "    </tr>\n",
        "    <tr>\n",
        "      <th>2</th>\n",
        "      <td> a</td>\n",
        "      <td> 2312</td>\n",
        "      <td> 0.000</td>\n",
        "      <td> 0.00</td>\n",
        "      <td>  dorsal#2 abaxial#1</td>\n",
        "      <td> facing away from the axis of an organ or organ...</td>\n",
        "    </tr>\n",
        "    <tr>\n",
        "      <th>3</th>\n",
        "      <td> a</td>\n",
        "      <td> 2527</td>\n",
        "      <td> 0.000</td>\n",
        "      <td> 0.00</td>\n",
        "      <td> ventral#2 adaxial#1</td>\n",
        "      <td> nearest to or facing toward the axis of an org...</td>\n",
        "    </tr>\n",
        "    <tr>\n",
        "      <th>4</th>\n",
        "      <td> a</td>\n",
        "      <td> 2730</td>\n",
        "      <td> 0.000</td>\n",
        "      <td> 0.00</td>\n",
        "      <td>        acroscopic#1</td>\n",
        "      <td>             facing or on the side toward the apex</td>\n",
        "    </tr>\n",
        "  </tbody>\n",
        "</table>\n",
        "</div>"
       ],
       "metadata": {},
       "output_type": "pyout",
       "prompt_number": 444,
       "text": [
        "  POS    ID  PosScore  NegScore          SynsetTerms  \\\n",
        "0   a  1740     0.125      0.00               able#1   \n",
        "1   a  2098     0.000      0.75             unable#1   \n",
        "2   a  2312     0.000      0.00   dorsal#2 abaxial#1   \n",
        "3   a  2527     0.000      0.00  ventral#2 adaxial#1   \n",
        "4   a  2730     0.000      0.00         acroscopic#1   \n",
        "\n",
        "                                               Gloss  \n",
        "0  (usually followed by `to') having the necessar...  \n",
        "1  (usually followed by `to') not having the nece...  \n",
        "2  facing away from the axis of an organ or organ...  \n",
        "3  nearest to or facing toward the axis of an org...  \n",
        "4              facing or on the side toward the apex  "
       ]
      }
     ],
     "prompt_number": 444
    },
    {
     "cell_type": "code",
     "collapsed": false,
     "input": [
      "vectorizer.get_feature_names()[0]"
     ],
     "language": "python",
     "metadata": {},
     "outputs": [
      {
       "metadata": {},
       "output_type": "pyout",
       "prompt_number": 452,
       "text": [
        "u'ba'"
       ]
      }
     ],
     "prompt_number": 452
    },
    {
     "cell_type": "code",
     "collapsed": false,
     "input": [
      "from nltk.corpus import wordnet as wn\n",
      "def get_offset(s):\n",
      "    synsets = wn.synsets(s)\n",
      "    if not synsets:\n",
      "        return None\n",
      "    return synsets[0].offset\n",
      "senti_id = dict([(w, get_offset(w)) for w in vectorizer.get_feature_names()])"
     ],
     "language": "python",
     "metadata": {},
     "outputs": [],
     "prompt_number": 453
    },
    {
     "cell_type": "code",
     "collapsed": false,
     "input": [],
     "language": "python",
     "metadata": {},
     "outputs": [
      {
       "metadata": {},
       "output_type": "pyout",
       "prompt_number": 454,
       "text": [
        "5144079"
       ]
      }
     ],
     "prompt_number": 454
    },
    {
     "cell_type": "code",
     "collapsed": false,
     "input": [],
     "language": "python",
     "metadata": {},
     "outputs": []
    },
    {
     "cell_type": "code",
     "collapsed": false,
     "input": [],
     "language": "python",
     "metadata": {},
     "outputs": []
    },
    {
     "cell_type": "code",
     "collapsed": false,
     "input": [],
     "language": "python",
     "metadata": {},
     "outputs": []
    },
    {
     "cell_type": "code",
     "collapsed": false,
     "input": [
      "exclam_idx = np.where(map(lambda x:'!' in x, testdf.Phrase))[0]\n",
      "testdf.ix[exclam_idx,:]\n",
      "len(exclam_idx), testdf.shape, 64./66292"
     ],
     "language": "python",
     "metadata": {},
     "outputs": [
      {
       "metadata": {},
       "output_type": "pyout",
       "prompt_number": 98,
       "text": [
        "(64, (66292, 3), 0.0009654256923912388)"
       ]
      }
     ],
     "prompt_number": 98
    },
    {
     "cell_type": "code",
     "collapsed": false,
     "input": [
      "em_idx = np.where(df.Sentiment!=2)[0]\n",
      "X_em = csr_matrix(X.toarray()[em_idx,:])\n",
      "y_em = target[em_idx]"
     ],
     "language": "python",
     "metadata": {},
     "outputs": [
      {
       "ename": "NameError",
       "evalue": "name 'csr_matrix' is not defined",
       "output_type": "pyerr",
       "traceback": [
        "\u001b[0;31m---------------------------------------------------------------------------\u001b[0m\n\u001b[0;31mNameError\u001b[0m                                 Traceback (most recent call last)",
        "\u001b[0;32m<ipython-input-304-a0048f9ed5be>\u001b[0m in \u001b[0;36m<module>\u001b[0;34m()\u001b[0m\n\u001b[1;32m      1\u001b[0m \u001b[0mem_idx\u001b[0m \u001b[0;34m=\u001b[0m \u001b[0mnp\u001b[0m\u001b[0;34m.\u001b[0m\u001b[0mwhere\u001b[0m\u001b[0;34m(\u001b[0m\u001b[0mdf\u001b[0m\u001b[0;34m.\u001b[0m\u001b[0mSentiment\u001b[0m\u001b[0;34m!=\u001b[0m\u001b[0;36m2\u001b[0m\u001b[0;34m)\u001b[0m\u001b[0;34m[\u001b[0m\u001b[0;36m0\u001b[0m\u001b[0;34m]\u001b[0m\u001b[0;34m\u001b[0m\u001b[0m\n\u001b[0;32m----> 2\u001b[0;31m \u001b[0mX_em\u001b[0m \u001b[0;34m=\u001b[0m \u001b[0mcsr_matrix\u001b[0m\u001b[0;34m(\u001b[0m\u001b[0mX\u001b[0m\u001b[0;34m.\u001b[0m\u001b[0mtoarray\u001b[0m\u001b[0;34m(\u001b[0m\u001b[0;34m)\u001b[0m\u001b[0;34m[\u001b[0m\u001b[0mem_idx\u001b[0m\u001b[0;34m,\u001b[0m\u001b[0;34m:\u001b[0m\u001b[0;34m]\u001b[0m\u001b[0;34m)\u001b[0m\u001b[0;34m\u001b[0m\u001b[0m\n\u001b[0m\u001b[1;32m      3\u001b[0m \u001b[0my_em\u001b[0m \u001b[0;34m=\u001b[0m \u001b[0mtarget\u001b[0m\u001b[0;34m[\u001b[0m\u001b[0mem_idx\u001b[0m\u001b[0;34m]\u001b[0m\u001b[0;34m\u001b[0m\u001b[0m\n",
        "\u001b[0;31mNameError\u001b[0m: name 'csr_matrix' is not defined"
       ]
      }
     ],
     "prompt_number": 304
    },
    {
     "cell_type": "code",
     "collapsed": false,
     "input": [
      "X_em_train, X_em_test, y_em_train, y_em_test = train_test_split(X_em, y_em, test_size = 0.2)"
     ],
     "language": "python",
     "metadata": {},
     "outputs": [],
     "prompt_number": 344
    },
    {
     "cell_type": "code",
     "collapsed": false,
     "input": [
      "lr_em = LogisticRegression().fit(X_em_train, y_em_train)\n",
      "y_em_pred = lr_em.predict(X_em_test)\n",
      "lr_em.predict_proba(X_em_test[0,:]), y_em_test[0]"
     ],
     "language": "python",
     "metadata": {},
     "outputs": [
      {
       "metadata": {},
       "output_type": "pyout",
       "prompt_number": 74,
       "text": [
        "(array([[ 0.06752131,  0.3612576 ,  0.46983155,  0.10138955]]), 4)"
       ]
      }
     ],
     "prompt_number": 74
    },
    {
     "cell_type": "code",
     "collapsed": false,
     "input": [
      "rbm = BernoulliRBM(n_components=256, learning_rate=0.1).fit(X_train)"
     ],
     "language": "python",
     "metadata": {},
     "outputs": [],
     "prompt_number": 44
    },
    {
     "cell_type": "code",
     "collapsed": false,
     "input": [
      "X_trainrbm = rbm.transform(X_train)\n",
      "X_testrbm = rbm.transform(X_test)"
     ],
     "language": "python",
     "metadata": {},
     "outputs": [],
     "prompt_number": 45
    },
    {
     "cell_type": "code",
     "collapsed": false,
     "input": [
      "svm = SVC(C=1).fit(X, target)"
     ],
     "language": "python",
     "metadata": {},
     "outputs": [],
     "prompt_number": 53
    },
    {
     "cell_type": "code",
     "collapsed": false,
     "input": [
      "X"
     ],
     "language": "python",
     "metadata": {},
     "outputs": [
      {
       "metadata": {},
       "output_type": "pyout",
       "prompt_number": 313,
       "text": [
        "<156060x1276 sparse matrix of type '<type 'numpy.float64'>'\n",
        "\twith 230513 stored elements in COOrdinate format>"
       ]
      }
     ],
     "prompt_number": 313
    },
    {
     "cell_type": "code",
     "collapsed": false,
     "input": [
      "\n",
      "\n"
     ],
     "language": "python",
     "metadata": {},
     "outputs": [
      {
       "metadata": {},
       "output_type": "pyout",
       "prompt_number": 352,
       "text": [
        "0.52992438805587594"
       ]
      }
     ],
     "prompt_number": 352
    },
    {
     "cell_type": "code",
     "collapsed": false,
     "input": [
      "def print_kfold(n_folds, clf, X, y, n=156060):\n",
      "    kf = KFold(n, n_folds)\n",
      "    score_record = []\n",
      "    for train_idx, test_idx in kf:\n",
      "        X_train, X_test = X.tocsr()[train_idx,:], X.tocsr()[test_idx,:]\n",
      "        y_train, y_test = y[train_idx], y[test_idx]\n",
      "        clf.fit(X_train, y_train)\n",
      "        score_record.append(clf.score(X_test, y_test))\n",
      "    print np.mean(score_record), np.var(score_record)\n"
     ],
     "language": "python",
     "metadata": {},
     "outputs": [
      {
       "output_type": "stream",
       "stream": "stdout",
       "text": [
        "0.524646795282 0.000819208403236\n"
       ]
      }
     ],
     "prompt_number": 321
    },
    {
     "cell_type": "code",
     "collapsed": false,
     "input": [
      "print_kfold(5, LogisticRegression(), X, target)"
     ],
     "language": "python",
     "metadata": {},
     "outputs": []
    },
    {
     "cell_type": "code",
     "collapsed": false,
     "input": [
      "# svr = SVR()\n",
      "# params={'C':[2000, 3000], \n",
      "#         'kernel': ['rbf'],\n",
      "#         'gamma': [0.1, .2]\n",
      "#         }\n",
      "# gs = GridSearchCV(estimator=svr, param_grid=params, n_jobs=4)\n",
      "# gs.fit(X_train, sent_train)"
     ],
     "language": "python",
     "metadata": {},
     "outputs": []
    },
    {
     "cell_type": "code",
     "collapsed": false,
     "input": [
      "target.shape"
     ],
     "language": "python",
     "metadata": {},
     "outputs": [
      {
       "metadata": {},
       "output_type": "pyout",
       "prompt_number": 318,
       "text": [
        "(156060,)"
       ]
      }
     ],
     "prompt_number": 318
    },
    {
     "cell_type": "code",
     "collapsed": false,
     "input": [
      "# svr = SVR()\n",
      "# svr.fit(X_train,sent_train)"
     ],
     "language": "python",
     "metadata": {},
     "outputs": []
    },
    {
     "cell_type": "code",
     "collapsed": false,
     "input": [
      "# mysave(svr, \"baselinesvr.pkl\")"
     ],
     "language": "python",
     "metadata": {},
     "outputs": []
    },
    {
     "cell_type": "code",
     "collapsed": false,
     "input": [
      "svr= pickle.load( open( \"baselinesvr.pkl\", \"rb\" ) )"
     ],
     "language": "python",
     "metadata": {},
     "outputs": [],
     "prompt_number": 10
    },
    {
     "cell_type": "code",
     "collapsed": false,
     "input": [
      "svr_train = svr.predict(X_train)\n",
      "svr_test = svr.predict(X_test)\n",
      "svr_train = np.column_stack((svr_train,))\n",
      "svr_test = np.column_stack((svr_test,))"
     ],
     "language": "python",
     "metadata": {},
     "outputs": [],
     "prompt_number": 13
    },
    {
     "cell_type": "code",
     "collapsed": false,
     "input": [
      "plt.hist(svr_test, bins=100);"
     ],
     "language": "python",
     "metadata": {},
     "outputs": [
      {
       "metadata": {},
       "output_type": "display_data",
       "png": "[encoded data removed]",
       "text": [
        "<matplotlib.figure.Figure at 0x10e779310>"
       ]
      }
     ],
     "prompt_number": 29
    },
    {
     "cell_type": "code",
     "collapsed": false,
     "input": [
      "from scipy import stats\n",
      "n_bins = 100\n",
      "train_quantiles = stats.mstats.mquantiles(svr_train, [float(i)/n_bins for i in range(n_bins)])"
     ],
     "language": "python",
     "metadata": {},
     "outputs": [],
     "prompt_number": 36
    },
    {
     "cell_type": "code",
     "collapsed": false,
     "input": [],
     "language": "python",
     "metadata": {},
     "outputs": [],
     "prompt_number": 36
    },
    {
     "cell_type": "code",
     "collapsed": false,
     "input": [
      "prev_pred = pd.read_csv('kaggle_submit028.csv')"
     ],
     "language": "python",
     "metadata": {},
     "outputs": [],
     "prompt_number": 37
    },
    {
     "cell_type": "code",
     "collapsed": false,
     "input": [
      "plt.hist(prev_pred.Sentiment)"
     ],
     "language": "python",
     "metadata": {},
     "outputs": [
      {
       "metadata": {},
       "output_type": "pyout",
       "prompt_number": 39,
       "text": [
        "(array([   508.,      0.,   5093.,      0.,      0.,  50155.,      0.,\n",
        "          8977.,      0.,   1559.]),\n",
        " array([ 0. ,  0.4,  0.8,  1.2,  1.6,  2. ,  2.4,  2.8,  3.2,  3.6,  4. ]),\n",
        " <a list of 10 Patch objects>)"
       ]
      },
      {
       "metadata": {},
       "output_type": "display_data",
       "png": "[encoded data removed]",
       "text": [
        "<matplotlib.figure.Figure at 0x10e8125d0>"
       ]
      }
     ],
     "prompt_number": 39
    },
    {
     "cell_type": "code",
     "collapsed": false,
     "input": [],
     "language": "python",
     "metadata": {},
     "outputs": [
      {
       "output_type": "stream",
       "stream": "stdout",
       "text": [
        "08:52:49.405690\n"
       ]
      }
     ],
     "prompt_number": 23
    },
    {
     "cell_type": "code",
     "collapsed": false,
     "input": [
      "svr_train[:5,:]"
     ],
     "language": "python",
     "metadata": {},
     "outputs": [
      {
       "metadata": {},
       "output_type": "pyout",
       "prompt_number": 40,
       "text": [
        "array([[ 2.09916457],\n",
        "       [ 2.09943021],\n",
        "       [ 2.0994771 ],\n",
        "       [ 2.09943697],\n",
        "       [ 2.0994034 ]])"
       ]
      }
     ],
     "prompt_number": 40
    },
    {
     "cell_type": "code",
     "collapsed": false,
     "input": [
      "rf = OneVsRestClassifier(RandomForestClassifier( n_estimators=1000, max_features=30, n_jobs=4))\n",
      "rf.fit(svr_train, y_train)"
     ],
     "language": "python",
     "metadata": {},
     "outputs": [
      {
       "ename": "TypeError",
       "evalue": "__init__() got an unexpected keyword argument 'fit_intercept'",
       "output_type": "pyerr",
       "traceback": [
        "\u001b[0;31m---------------------------------------------------------------------------\u001b[0m\n\u001b[0;31mTypeError\u001b[0m                                 Traceback (most recent call last)",
        "\u001b[0;32m<ipython-input-47-4ad9576b46ff>\u001b[0m in \u001b[0;36m<module>\u001b[0;34m()\u001b[0m\n\u001b[0;32m----> 1\u001b[0;31m \u001b[0mrf\u001b[0m \u001b[0;34m=\u001b[0m \u001b[0mOneVsRestClassifier\u001b[0m\u001b[0;34m(\u001b[0m\u001b[0mRandomForestClassifier\u001b[0m\u001b[0;34m(\u001b[0m\u001b[0mfit_intercept\u001b[0m\u001b[0;34m=\u001b[0m\u001b[0mTrue\u001b[0m\u001b[0;34m,\u001b[0m \u001b[0mn_estimators\u001b[0m\u001b[0;34m=\u001b[0m\u001b[0;36m1000\u001b[0m\u001b[0;34m,\u001b[0m \u001b[0mmax_features\u001b[0m\u001b[0;34m=\u001b[0m\u001b[0;36m30\u001b[0m\u001b[0;34m,\u001b[0m \u001b[0mn_jobs\u001b[0m\u001b[0;34m=\u001b[0m\u001b[0;36m4\u001b[0m\u001b[0;34m)\u001b[0m\u001b[0;34m)\u001b[0m\u001b[0;34m\u001b[0m\u001b[0m\n\u001b[0m\u001b[1;32m      2\u001b[0m \u001b[0mrf\u001b[0m\u001b[0;34m.\u001b[0m\u001b[0mfit\u001b[0m\u001b[0;34m(\u001b[0m\u001b[0msvr_train\u001b[0m\u001b[0;34m,\u001b[0m \u001b[0my_train\u001b[0m\u001b[0;34m)\u001b[0m\u001b[0;34m\u001b[0m\u001b[0m\n",
        "\u001b[0;31mTypeError\u001b[0m: __init__() got an unexpected keyword argument 'fit_intercept'"
       ]
      }
     ],
     "prompt_number": 47
    },
    {
     "cell_type": "code",
     "collapsed": false,
     "input": [
      "def exp_from_prob(p):\n",
      "    return np.array(range(1,6)).T.dot(p)"
     ],
     "language": "python",
     "metadata": {},
     "outputs": [],
     "prompt_number": 36
    },
    {
     "cell_type": "code",
     "collapsed": false,
     "input": [
      "softTr = logistic_model.predict_proba(X_train)\n",
      "softTe = logistic_model.predict_proba(X_test)\n",
      "exp_classTr = np.apply_along_axis(exp_from_prob, 1, softTr).reshape((n_train,1))\n",
      "exp_classTe = np.apply_along_axis(exp_from_prob, 1, softTe).reshape((n_test,1))"
     ],
     "language": "python",
     "metadata": {},
     "outputs": [],
     "prompt_number": 84
    },
    {
     "cell_type": "code",
     "collapsed": false,
     "input": [
      "log_exp_model = LogisticRegression(fit_intercept=True)\n",
      "log_exp_model.fit(exp_classTr, sent_train)\n",
      "log_exp_model.score(exp_classTe, sent_test)"
     ],
     "language": "python",
     "metadata": {},
     "outputs": [
      {
       "ename": "NameError",
       "evalue": "name 'exp_classTr' is not defined",
       "output_type": "pyerr",
       "traceback": [
        "\u001b[0;31m---------------------------------------------------------------------------\u001b[0m\n\u001b[0;31mNameError\u001b[0m                                 Traceback (most recent call last)",
        "\u001b[0;32m<ipython-input-14-9000ad5b72a4>\u001b[0m in \u001b[0;36m<module>\u001b[0;34m()\u001b[0m\n\u001b[1;32m      1\u001b[0m \u001b[0mlog_exp_model\u001b[0m \u001b[0;34m=\u001b[0m \u001b[0mLogisticRegression\u001b[0m\u001b[0;34m(\u001b[0m\u001b[0mfit_intercept\u001b[0m\u001b[0;34m=\u001b[0m\u001b[0mTrue\u001b[0m\u001b[0;34m)\u001b[0m\u001b[0;34m\u001b[0m\u001b[0m\n\u001b[0;32m----> 2\u001b[0;31m \u001b[0mlog_exp_model\u001b[0m\u001b[0;34m.\u001b[0m\u001b[0mfit\u001b[0m\u001b[0;34m(\u001b[0m\u001b[0mexp_classTr\u001b[0m\u001b[0;34m,\u001b[0m \u001b[0msent_train\u001b[0m\u001b[0;34m)\u001b[0m\u001b[0;34m\u001b[0m\u001b[0m\n\u001b[0m\u001b[1;32m      3\u001b[0m \u001b[0mlog_exp_model\u001b[0m\u001b[0;34m.\u001b[0m\u001b[0mscore\u001b[0m\u001b[0;34m(\u001b[0m\u001b[0mexp_classTe\u001b[0m\u001b[0;34m,\u001b[0m \u001b[0msent_test\u001b[0m\u001b[0;34m)\u001b[0m\u001b[0;34m\u001b[0m\u001b[0m\n",
        "\u001b[0;31mNameError\u001b[0m: name 'exp_classTr' is not defined"
       ]
      }
     ],
     "prompt_number": 14
    },
    {
     "cell_type": "code",
     "collapsed": false,
     "input": [
      "?"
     ],
     "language": "python",
     "metadata": {},
     "outputs": [],
     "prompt_number": 76
    },
    {
     "cell_type": "code",
     "collapsed": false,
     "input": [
      "\n",
      "\n",
      "rf_model = RandomForestClassifier(n_estimators = 1000, max_depth=30, n_jobs=4)\n",
      "rf_model.fit(X_train.toarray(), sent_train)\n"
     ],
     "language": "python",
     "metadata": {},
     "outputs": [
      {
       "metadata": {},
       "output_type": "pyout",
       "prompt_number": 23,
       "text": [
        "RandomForestClassifier(bootstrap=True, compute_importances=None,\n",
        "            criterion='gini', max_depth=30, max_features='auto',\n",
        "            max_leaf_nodes=None, min_density=None, min_samples_leaf=1,\n",
        "            min_samples_split=2, n_estimators=1000, n_jobs=4,\n",
        "            oob_score=False, random_state=None, verbose=0)"
       ]
      }
     ],
     "prompt_number": 23
    },
    {
     "cell_type": "code",
     "collapsed": false,
     "input": [],
     "language": "python",
     "metadata": {},
     "outputs": []
    },
    {
     "cell_type": "code",
     "collapsed": false,
     "input": [
      "exp_classTr.shape[0]"
     ],
     "language": "python",
     "metadata": {},
     "outputs": [
      {
       "metadata": {},
       "output_type": "pyout",
       "prompt_number": 50,
       "text": [
        "124848"
       ]
      }
     ],
     "prompt_number": 50
    },
    {
     "cell_type": "code",
     "collapsed": false,
     "input": [
      "rf_model.score(X_test.toarray(), sent_test)"
     ],
     "language": "python",
     "metadata": {},
     "outputs": []
    },
    {
     "cell_type": "code",
     "collapsed": false,
     "input": [
      "sent_pred = rf_model.predict(X_test.toarray())"
     ],
     "language": "python",
     "metadata": {},
     "outputs": [],
     "prompt_number": 25
    },
    {
     "cell_type": "code",
     "collapsed": false,
     "input": [
      "plt.hist(sent_train)"
     ],
     "language": "python",
     "metadata": {},
     "outputs": [
      {
       "metadata": {},
       "output_type": "pyout",
       "prompt_number": 15,
       "text": [
        "(array([  5635.,      0.,  21667.,      0.,      0.,  63818.,      0.,\n",
        "         26335.,      0.,   7393.]),\n",
        " array([ 0. ,  0.4,  0.8,  1.2,  1.6,  2. ,  2.4,  2.8,  3.2,  3.6,  4. ]),\n",
        " <a list of 10 Patch objects>)"
       ]
      },
      {
       "metadata": {},
       "output_type": "display_data",
       "png": "[encoded data removed]",
       "text": [
        "<matplotlib.figure.Figure at 0x10ea5d950>"
       ]
      }
     ],
     "prompt_number": 15
    },
    {
     "cell_type": "code",
     "collapsed": false,
     "input": [
      "train_pred17 = pd.read_csv('train_preds017.txt', delim_whitespace=True)"
     ],
     "language": "python",
     "metadata": {},
     "outputs": [],
     "prompt_number": 22
    },
    {
     "cell_type": "code",
     "collapsed": false,
     "input": [
      "shuffledf = df.ix[np.random.permutation(range(n)), :]"
     ],
     "language": "python",
     "metadata": {},
     "outputs": [],
     "prompt_number": 567
    },
    {
     "cell_type": "code",
     "collapsed": false,
     "input": [
      "shuffledf.head()"
     ],
     "language": "python",
     "metadata": {},
     "outputs": [
      {
       "html": [
        "<div style=\"max-height:1000px;max-width:1500px;overflow:auto;\">\n",
        "<table border=\"1\" class=\"dataframe\">\n",
        "  <thead>\n",
        "    <tr style=\"text-align: right;\">\n",
        "      <th></th>\n",
        "      <th>PhraseId</th>\n",
        "      <th>SentenceId</th>\n",
        "      <th>Phrase</th>\n",
        "      <th>Sentiment</th>\n",
        "    </tr>\n",
        "  </thead>\n",
        "  <tbody>\n",
        "    <tr>\n",
        "      <th>58067 </th>\n",
        "      <td>  58068</td>\n",
        "      <td> 2925</td>\n",
        "      <td>                 and film footage</td>\n",
        "      <td> 2</td>\n",
        "    </tr>\n",
        "    <tr>\n",
        "      <th>129412</th>\n",
        "      <td> 129413</td>\n",
        "      <td> 6958</td>\n",
        "      <td>                    evacuations ,</td>\n",
        "      <td> 2</td>\n",
        "    </tr>\n",
        "    <tr>\n",
        "      <th>25951 </th>\n",
        "      <td>  25952</td>\n",
        "      <td> 1188</td>\n",
        "      <td> the incredible IMAX sound system</td>\n",
        "      <td> 3</td>\n",
        "    </tr>\n",
        "    <tr>\n",
        "      <th>91758 </th>\n",
        "      <td>  91759</td>\n",
        "      <td> 4774</td>\n",
        "      <td>             is the movie for you</td>\n",
        "      <td> 3</td>\n",
        "    </tr>\n",
        "    <tr>\n",
        "      <th>37059 </th>\n",
        "      <td>  37060</td>\n",
        "      <td> 1755</td>\n",
        "      <td>                             drab</td>\n",
        "      <td> 0</td>\n",
        "    </tr>\n",
        "  </tbody>\n",
        "</table>\n",
        "</div>"
       ],
       "metadata": {},
       "output_type": "pyout",
       "prompt_number": 568,
       "text": [
        "        PhraseId  SentenceId                            Phrase  Sentiment\n",
        "58067      58068        2925                  and film footage          2\n",
        "129412    129413        6958                     evacuations ,          2\n",
        "25951      25952        1188  the incredible IMAX sound system          3\n",
        "91758      91759        4774              is the movie for you          3\n",
        "37059      37060        1755                              drab          0"
       ]
      }
     ],
     "prompt_number": 568
    },
    {
     "cell_type": "code",
     "collapsed": false,
     "input": [
      "shuffledf.to_csv('trainshuffle.tsv', sep='\\t')"
     ],
     "language": "python",
     "metadata": {},
     "outputs": [],
     "prompt_number": 571
    },
    {
     "cell_type": "code",
     "collapsed": false,
     "input": [
      "shuffledf.to_csv?"
     ],
     "language": "python",
     "metadata": {},
     "outputs": [],
     "prompt_number": 570
    },
    {
     "cell_type": "code",
     "collapsed": false,
     "input": [
      "import vw"
     ],
     "language": "python",
     "metadata": {},
     "outputs": [
      {
       "ename": "SyntaxError",
       "evalue": "invalid syntax (vw.py, line 8)",
       "output_type": "pyerr",
       "traceback": [
        "\u001b[0;36m  File \u001b[0;32m\"vw.py\"\u001b[0;36m, line \u001b[0;32m8\u001b[0m\n\u001b[0;31m    .\u001b[0m\n\u001b[0m    ^\u001b[0m\n\u001b[0;31mSyntaxError\u001b[0m\u001b[0;31m:\u001b[0m invalid syntax\n"
       ]
      }
     ],
     "prompt_number": 572
    },
    {
     "cell_type": "code",
     "collapsed": false,
     "input": [],
     "language": "python",
     "metadata": {},
     "outputs": [],
     "prompt_number": 341
    },
    {
     "cell_type": "code",
     "collapsed": false,
     "input": [],
     "language": "python",
     "metadata": {},
     "outputs": []
    }
   ],
   "metadata": {}
  }
 ]
}